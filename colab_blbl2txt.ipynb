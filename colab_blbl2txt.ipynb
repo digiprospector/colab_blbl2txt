{
  "cells": [
    {
      "cell_type": "markdown",
      "metadata": {
        "id": "view-in-github",
        "colab_type": "text"
      },
      "source": [
        "<a href=\"https://colab.research.google.com/github/digiprospector/colab_blbl2txt/blob/main/colab_blbl2txt.ipynb\" target=\"_parent\"><img src=\"https://colab.research.google.com/assets/colab-badge.svg\" alt=\"Open In Colab\"/></a>"
      ]
    },
    {
      "cell_type": "code",
      "execution_count": null,
      "metadata": {
        "id": "kMNco-FwIbag"
      },
      "outputs": [],
      "source": [
        "!cd /content/drive/MyDrive/github/colab_blbl2txt/blbldl && pip install -r requirements.txt\n",
        "!chmod +x /content/drive/MyDrive/fast_whisper_xxl/r245.4/Faster-Whisper-XXL/faster-whisper-xxl\n"
      ]
    },
    {
      "cell_type": "code",
      "execution_count": null,
      "metadata": {
        "colab": {
          "background_save": true
        },
        "id": "AQIt3x5rPDs6"
      },
      "outputs": [],
      "source": [
        "!python3 /content/drive/MyDrive/github/colab_blbl2txt/main.py"
      ]
    }
  ],
  "metadata": {
    "accelerator": "GPU",
    "colab": {
      "gpuType": "T4",
      "provenance": [],
      "mount_file_id": "1ngfy5MurZhb2_kouVIe0tXecp2NHDBDL",
      "authorship_tag": "ABX9TyMF21FAbu6GzyLoO8suqRkP",
      "include_colab_link": true
    },
    "kernelspec": {
      "display_name": "Python 3",
      "name": "python3"
    },
    "language_info": {
      "name": "python"
    }
  },
  "nbformat": 4,
  "nbformat_minor": 0
}